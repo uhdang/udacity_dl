{
 "cells": [
  {
   "cell_type": "markdown",
   "metadata": {},
   "source": [
    "# 1. Linear Boundaries\n",
    "\n",
    "**BOUNDARY:** <br>\n",
    "**A LINE**\n",
    "\n",
    "$ w_1x_1 + w_2x_2 + b = 0 $ <br>\n",
    "$ W_x + b = 0 $ <br>\n",
    "$ W = (w_1, w_2) $ <br>\n",
    "$ x = (x_1, x_2) $ <br>\n",
    "$ y = label: 0 $ OR $ 1 $ <br>\n",
    "\n",
    "**PREDICTION:**\n",
    "\n",
    "\\begin{equation}\n",
    "  \\widehat{y} = \\begin{cases}\n",
    "    1, & \\text{if $Wx + b >= 0$}.\\\\\n",
    "    0, & \\text{if $Wx = b < 0$}.\n",
    "  \\end{cases}\n",
    "\\end{equation}\n",
    "\n",
    "# 2. Higher Dimensions\n",
    "\n",
    "n-dimensional space :: $ x_1, x_2 ... x_n $\n",
    "\n",
    "**BOUNDARY:** <br>\n",
    "n-1 dimensional hyperplane\n",
    "\n",
    "$ w_1x_1 + w_2x_2 + w_3x_3 ... w_nx_n + b = 0 $ <br>\n",
    "$ W_x + b = 0 $ <br>\n",
    "$ W = (w_1, w_2, ... w_n) $ <br>\n",
    "$ x = (x_1, x_2, ... x_n) $ <br>\n",
    "$ y = label: 0 $ OR $ 1 $ <br>\n",
    "\n",
    "**PREDICTION:**\n",
    "\n",
    "\\begin{equation}\n",
    "  \\widehat{y} = \\begin{cases}\n",
    "    1, & \\text{if $Wx + b >= 0$}.\\\\\n",
    "    0, & \\text{if $Wx = b < 0$}.\n",
    "  \\end{cases}\n",
    "\\end{equation}\n",
    "\n",
    "# 3. Perceptrons\n",
    "\n",
    "1. Getting inputes from one or more nodes \n",
    "2. Sending them collectively to proess\n",
    "3. Categorize outcome using stepfunction\n",
    "4. Delier outcome\n",
    "\n",
    "\n",
    "# 4. Why \"Neural Networks\"?\n",
    "\n",
    "The reason it's called **Neural Networks** is because it is similar to getting input via dendrite, processing it, and sending it out via axon as our neuros works.\n",
    "\n",
    "# 5. Perceptrons as Logical Operators\n",
    "\n",
    "* AND Perceptron\n",
    "* OR Perceptron\n",
    "* NOT Perceptron\n",
    "* XOR Perceptron"
   ]
  },
  {
   "cell_type": "code",
   "execution_count": null,
   "metadata": {},
   "outputs": [],
   "source": [
    " "
   ]
  }
 ],
 "metadata": {
  "kernelspec": {
   "display_name": "Python 3",
   "language": "python",
   "name": "python3"
  },
  "language_info": {
   "codemirror_mode": {
    "name": "ipython",
    "version": 3
   },
   "file_extension": ".py",
   "mimetype": "text/x-python",
   "name": "python",
   "nbconvert_exporter": "python",
   "pygments_lexer": "ipython3",
   "version": "3.7.1"
  }
 },
 "nbformat": 4,
 "nbformat_minor": 2
}
