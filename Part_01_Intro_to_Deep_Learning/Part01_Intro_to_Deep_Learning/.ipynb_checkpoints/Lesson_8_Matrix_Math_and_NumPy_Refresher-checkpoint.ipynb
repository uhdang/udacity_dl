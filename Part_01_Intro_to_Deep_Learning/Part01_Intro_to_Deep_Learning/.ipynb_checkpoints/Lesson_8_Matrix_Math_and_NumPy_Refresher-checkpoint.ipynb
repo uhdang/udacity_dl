{
 "cells": [
  {
   "cell_type": "markdown",
   "metadata": {},
   "source": [
    "# 1. Data in NumPy\n",
    "\n",
    "## Introducing NumPy\n",
    "\n",
    "Python is convenient, but it can also be slow. However, it does allow you to access libraries that execute faster code written in languages like C. NumPy is one such library: it provides fast alternatives to math operations in Python and is designed to work efficiently with groups of numbers - like matrices.\n",
    "\n",
    "### Importing NumPy"
   ]
  },
  {
   "cell_type": "code",
   "execution_count": 3,
   "metadata": {},
   "outputs": [],
   "source": [
    "import numpy as np"
   ]
  },
  {
   "cell_type": "markdown",
   "metadata": {},
   "source": [
    "### Data Types and Shapes\n",
    "\n",
    "The most common way to work with numbers in NumPy is through `ndarray` objects. They are similar to Python lists, but can have any number of dimensions. Also, ndarray supports fast math operations, which is just what we want.\n",
    "\n",
    "Since it can store any number of dimensions, you can use `ndarray`s to represent any data types we covered before: scalars, vectors, matrices, or tensors.\n",
    "\n",
    "### Scalars\n",
    "\n",
    "Scalars in NumPy are a bit more involved than in Python. Instead of Python's basic types like `int`, `float`, etc., NumPy lets you specify signed and unsigned types, as well as different sizes. So instead of Python's `int`, you have access to types like `uint8`, `int8`, `uint16`, `int16`, and so on.\n",
    "\n",
    "These types are important because every object you make (vectors, matrices, tensors) eventually stores scalars. And when you create a NumPy array, you can specify the type - but **every item in the array must have the same type**. In this regard, NumPy arrays are more like C arrays than Python lists.\n",
    "\n",
    "If you want to create a NumPy array that holds a scalar, you do so by passing the value to NumPy's `array` function, like so:"
   ]
  },
  {
   "cell_type": "code",
   "execution_count": 4,
   "metadata": {},
   "outputs": [
    {
     "data": {
      "text/plain": [
       "array(5)"
      ]
     },
     "execution_count": 4,
     "metadata": {},
     "output_type": "execute_result"
    }
   ],
   "source": [
    "s = np.array(5)\n",
    "s"
   ]
  },
  {
   "cell_type": "markdown",
   "metadata": {},
   "source": [
    "You can still perform math between `ndarray`s, NumPy scalars, and normal Python scalars, though, as you'll see in the element-wise math lesson.\n",
    "\n",
    "You can see the shape of your arrays by checking their `shape` attribute. So if you executed this code:"
   ]
  },
  {
   "cell_type": "code",
   "execution_count": 5,
   "metadata": {},
   "outputs": [
    {
     "data": {
      "text/plain": [
       "()"
      ]
     },
     "execution_count": 5,
     "metadata": {},
     "output_type": "execute_result"
    }
   ],
   "source": [
    "s.shape"
   ]
  },
  {
   "cell_type": "markdown",
   "metadata": {},
   "source": [
    "It would print out the result, an empty pair of parenthesis, `()`. This indicates that it has zero dimensions.\n",
    "\n",
    "Even though scalars are inside arrays, you still use "
   ]
  }
 ],
 "metadata": {
  "kernelspec": {
   "display_name": "Python 3",
   "language": "python",
   "name": "python3"
  },
  "language_info": {
   "codemirror_mode": {
    "name": "ipython",
    "version": 3
   },
   "file_extension": ".py",
   "mimetype": "text/x-python",
   "name": "python",
   "nbconvert_exporter": "python",
   "pygments_lexer": "ipython3",
   "version": "3.7.1"
  }
 },
 "nbformat": 4,
 "nbformat_minor": 2
}
